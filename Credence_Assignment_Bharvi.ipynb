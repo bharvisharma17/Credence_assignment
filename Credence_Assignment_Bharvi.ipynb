{
 "cells": [
  {
   "cell_type": "code",
   "execution_count": 1,
   "id": "10abfa77",
   "metadata": {},
   "outputs": [
    {
     "name": "stdout",
     "output_type": "stream",
     "text": [
      "Collecting pymongo\n",
      "  Downloading pymongo-4.3.3-cp310-cp310-win_amd64.whl (382 kB)\n",
      "     -------------------------------------- 382.5/382.5 kB 2.0 MB/s eta 0:00:00\n",
      "Collecting dnspython<3.0.0,>=1.16.0\n",
      "  Downloading dnspython-2.3.0-py3-none-any.whl (283 kB)\n",
      "     -------------------------------------- 283.7/283.7 kB 4.4 MB/s eta 0:00:00\n",
      "Installing collected packages: dnspython, pymongo\n",
      "Successfully installed dnspython-2.3.0 pymongo-4.3.3\n",
      "Note: you may need to restart the kernel to use updated packages.\n"
     ]
    }
   ],
   "source": [
    "pip install pymongo\n"
   ]
  },
  {
   "cell_type": "code",
   "execution_count": 2,
   "id": "e6362904",
   "metadata": {},
   "outputs": [],
   "source": [
    "import pymongo"
   ]
  },
  {
   "cell_type": "code",
   "execution_count": null,
   "id": "35ce1e51",
   "metadata": {},
   "outputs": [],
   "source": [
    "#Connecting to mondodb compass\n",
    "connection_url=\"mongodb://localhost:27017/\" \n",
    "#MongoDB compass local host URL. You can replace the SRV string if you are connecting with mongodb atlas  \n",
    "client=pymongo.MongoClient(connection_url)\n",
    "client.list_database_names()#listing the available databases \n",
    "\n",
    "database_name=\"movie_database\"\n",
    "movie_db=client[database_name]#creating a database named movie_database\n",
    "collection_name=\"movies\"\n",
    "collection=movie_db[collection_name]#creating a collection in movie_database\n",
    "\n",
    "#inserting documents \n",
    "\n",
    "document={\"name\":\"Harry Potter and the Order of the Phoenix\",\n",
    "\"img\":  \"https://bit.ly/2lcnSwz\",\n",
    "\"summary\": \"Harry Potter and the Dumbledore's warning about the return of Lord Voldemort is not heeded by the wizard authorities who, in turn, look to undermine Dumbledore's authority at Hogwarts and discredit Harry\"}\n",
    "collection.insert_one(document)#inserting single document \n",
    "\n",
    "\n",
    "documents=[{\"name\":\"The Lord of the Rings: The Fellowship of the Ring\",\"img\":\"https://bit.ly/2tC1Lcg\",\"summary\":\"A young hobbit, Frodo, who has found the One Ring that belongs to the Dark Lord Sauron, begins his journey with eight companions to Mount Doom, the only place where it can be destroyed\"},{\"name\":\"Avengers: Endgame\",\"img\":\"https://bit.ly/2Pzczlb\",\"summary\":\"Adrift in space with no food or water, Tony Stark sends a message to Pepper Potts as his oxygen supply starts to dwindle. Meanwhile, the remaining Avengers -- Thor, Black Widow, Captain America, and Bruce Banner -- must figure out a way to bring back their vanquished allies for an epic showdown with Thanos - the evil demigod who decimated the planet and the universe.\"}]\n",
    "collection.insert_many(documents)#inserting multiple documents\n",
    "\n",
    "#Retrieving data from collection\n",
    "query={\"name\":\"Avengers: Endgame\"}\n",
    "print(collection.find_one(query))\n",
    "\n",
    "\n",
    "result=collection.find({}).limit(2)#limiting the results\n",
    "for i in result:\n",
    "    print(i)\n",
    "\n",
    "\n",
    "#Updating documents in collection\n",
    "\n",
    "present_data={\"name\":\"Avengers: Endgame\"}\n",
    "new_data={\"$set\":{\"summary\":\"Iron man dies\"}}\n",
    "collection.update_many(present_data,new_data)\n",
    "\n",
    "#deleting documents from collection\n",
    "query={\"name\":\"Avengers: Endgame\"}\n",
    "collection.delete_one(query)\n",
    "\n",
    "\n",
    "#dropping collection\n",
    "\n",
    "collection.drop()"
   ]
  }
 ],
 "metadata": {
  "kernelspec": {
   "display_name": "Python 3 (ipykernel)",
   "language": "python",
   "name": "python3"
  },
  "language_info": {
   "codemirror_mode": {
    "name": "ipython",
    "version": 3
   },
   "file_extension": ".py",
   "mimetype": "text/x-python",
   "name": "python",
   "nbconvert_exporter": "python",
   "pygments_lexer": "ipython3",
   "version": "3.10.9"
  }
 },
 "nbformat": 4,
 "nbformat_minor": 5
}
